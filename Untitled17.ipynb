{
  "nbformat": 4,
  "nbformat_minor": 0,
  "metadata": {
    "colab": {
      "provenance": []
    },
    "kernelspec": {
      "name": "python3",
      "display_name": "Python 3"
    },
    "language_info": {
      "name": "python"
    }
  },
  "cells": [
    {
      "cell_type": "code",
      "execution_count": 3,
      "metadata": {
        "id": "S9ZUmBZhpSCd",
        "colab": {
          "base_uri": "https://localhost:8080/"
        },
        "outputId": "09547515-818d-417b-823f-44a555e36a62"
      },
      "outputs": [
        {
          "output_type": "stream",
          "name": "stdout",
          "text": [
            "35\n"
          ]
        }
      ],
      "source": [
        "#Write a Python program to create a lambda function that adds 25 to a given number passed in as an argument.\n",
        "#sample input: 10\n",
        "#sample output: 35\n",
        "\n",
        "\n",
        "r = lambda a : a + 25\n",
        "print(r(10))\n"
      ]
    },
    {
      "cell_type": "code",
      "source": [
        "s = lambda a : a+25\n",
        "print(\"Addtion of a and 25 is \",s(int(input(\"Enter the number \"))))"
      ],
      "metadata": {
        "colab": {
          "base_uri": "https://localhost:8080/"
        },
        "id": "B61R6i04wpn_",
        "outputId": "259c8449-d92a-49bf-9920-ea2b58ed75ed"
      },
      "execution_count": 4,
      "outputs": [
        {
          "output_type": "stream",
          "name": "stdout",
          "text": [
            "Enter the number 10\n",
            "Addtion of a and 25 is  35\n"
          ]
        }
      ]
    },
    {
      "cell_type": "code",
      "source": [
        "s = lambda a : a+25\n",
        "print(\"Addtion of a and 25 is \",s(int(input(\"Enter the number \"))))"
      ],
      "metadata": {
        "colab": {
          "base_uri": "https://localhost:8080/"
        },
        "id": "r8RFaAnixQKr",
        "outputId": "aa0d1171-dd56-4568-a7c1-cab3854b27eb"
      },
      "execution_count": 5,
      "outputs": [
        {
          "output_type": "stream",
          "name": "stdout",
          "text": [
            "Enter the number 25\n",
            "Addtion of a and 25 is  50\n"
          ]
        }
      ]
    },
    {
      "cell_type": "code",
      "source": [],
      "metadata": {
        "id": "myzdO40hxd3p"
      },
      "execution_count": null,
      "outputs": []
    }
  ]
}