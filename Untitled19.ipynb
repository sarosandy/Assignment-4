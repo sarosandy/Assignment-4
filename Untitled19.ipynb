{
  "nbformat": 4,
  "nbformat_minor": 0,
  "metadata": {
    "colab": {
      "provenance": []
    },
    "kernelspec": {
      "name": "python3",
      "display_name": "Python 3"
    },
    "language_info": {
      "name": "python"
    }
  },
  "cells": [
    {
      "cell_type": "code",
      "execution_count": 2,
      "metadata": {
        "colab": {
          "base_uri": "https://localhost:8080/"
        },
        "id": "Z7RsrWNM1rr2",
        "outputId": "92c9e930-6384-4017-8f3f-7b189ed42b49"
      },
      "outputs": [
        {
          "output_type": "stream",
          "name": "stdout",
          "text": [
            "4 5 2 9\n",
            "Sample list: [4, 5, 2, 9]\n",
            "Square of the elements of the list: [16, 25, 4, 81]\n"
          ]
        }
      ],
      "source": [
        "#Write a Python program to square the elements of a list using map() function.\n",
        "#Sample List: [4, 5, 2, 9]\n",
        "#Square the elements of the list:[16, 25, 4, 81]\n",
        "\n",
        "list1=[int(x) for x in input().split()]\n",
        "print(\"Sample list:\",list1)\n",
        "l=list(map(lambda x:x**2,list1))\n",
        "print(\"Square of the elements of the list:\",l)"
      ]
    },
    {
      "cell_type": "code",
      "source": [
        "list1=[int(x) for x in input().split()]\n",
        "print(\"Sample list:\",list1)\n",
        "l=list(map(lambda x:x**2,list1))\n",
        "print(\"Square of the elements of the list:\",l)"
      ],
      "metadata": {
        "colab": {
          "base_uri": "https://localhost:8080/"
        },
        "id": "WFLvumlD2VPr",
        "outputId": "8faff73f-d583-4861-ea56-f900ec17baf8"
      },
      "execution_count": 3,
      "outputs": [
        {
          "output_type": "stream",
          "name": "stdout",
          "text": [
            "1 2 3 4 5 6 7 8 9 10\n",
            "Sample list: [1, 2, 3, 4, 5, 6, 7, 8, 9, 10]\n",
            "Square of the elements of the list: [1, 4, 9, 16, 25, 36, 49, 64, 81, 100]\n"
          ]
        }
      ]
    },
    {
      "cell_type": "code",
      "source": [],
      "metadata": {
        "id": "doAWAaHsVc96"
      },
      "execution_count": 3,
      "outputs": []
    }
  ]
}