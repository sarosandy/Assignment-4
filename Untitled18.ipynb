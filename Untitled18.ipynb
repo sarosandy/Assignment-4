{
  "nbformat": 4,
  "nbformat_minor": 0,
  "metadata": {
    "colab": {
      "provenance": []
    },
    "kernelspec": {
      "name": "python3",
      "display_name": "Python 3"
    },
    "language_info": {
      "name": "python"
    }
  },
  "cells": [
    {
      "cell_type": "code",
      "execution_count": 8,
      "metadata": {
        "colab": {
          "base_uri": "https://localhost:8080/"
        },
        "id": "fDA4oPjVx_Bd",
        "outputId": "9efd5a6c-cc67-46fd-bf4b-7b3db43000c9"
      },
      "outputs": [
        {
          "output_type": "stream",
          "name": "stdout",
          "text": [
            "1 2 3 4  5 6 7\n",
            "Sample list: [1, 2, 3, 4, 5, 6, 7]\n",
            "\n",
            "Triple of the list numbers: [3, 6, 9, 12, 15, 18, 21]\n"
          ]
        }
      ],
      "source": [
        "##Write a Python program to triple all numbers of a given list of integers. Use Python map.\n",
        "#sample list: [1, 2, 3, 4, 5, 6, 7]\n",
        "#Triple of list numbers:[3, 6, 9, 12, 15, 18, 21]\n",
        "\n",
        "\n",
        "\n",
        "list_input=[int(x) for x in input().split()]\n",
        "print(\"Sample list:\",list_input)\n",
        "l=list(map(lambda x:x*3,list_input))\n",
        "print(\"\\nTriple of the list numbers:\",l)\n"
      ]
    },
    {
      "cell_type": "code",
      "source": [
        "list_input=[int(x) for x in input().split()]\n",
        "print(\"Sample list:\",list_input)\n",
        "l=list(map(lambda x:x*3,list_input))\n",
        "print(\"\\nTriple of the list numbers:\",l)"
      ],
      "metadata": {
        "colab": {
          "base_uri": "https://localhost:8080/"
        },
        "id": "6QUMErJozT0i",
        "outputId": "021eefdd-e398-4110-8a9d-a2ad44c9afab"
      },
      "execution_count": 11,
      "outputs": [
        {
          "output_type": "stream",
          "name": "stdout",
          "text": [
            "0 9 8 7 6 5\n",
            "Sample list: [0, 9, 8, 7, 6, 5]\n",
            "\n",
            "Triple of the list numbers: [0, 27, 24, 21, 18, 15]\n"
          ]
        }
      ]
    },
    {
      "cell_type": "code",
      "source": [],
      "metadata": {
        "id": "wPprcDGe1Zgr"
      },
      "execution_count": null,
      "outputs": []
    }
  ]
}